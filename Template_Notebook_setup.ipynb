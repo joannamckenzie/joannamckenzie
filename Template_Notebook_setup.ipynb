{
 "cells": [
  {
   "cell_type": "code",
   "execution_count": null,
   "metadata": {},
   "outputs": [],
   "source": [
    "import pandas as pd\n",
    "import numpy as np\n",
    "import seaborn as sns\n",
    "import matplotlib.pyplot as plt\n",
    "\n",
    "sns.set()\n",
    "\n",
    "plt.figure(figsize=(16,6))\n",
    "%matplotlib inline\n",
    "\n",
    "file_location = \"my_folder_location/\""
   ]
  },
  {
   "cell_type": "code",
   "execution_count": null,
   "metadata": {},
   "outputs": [],
   "source": [
    "# Changing column types crib-sheet\n",
    "\n",
    "df[\"col\"] = pd.to_datetime(df[\"col\"], format = \"%d/%m/%y, %H:%M\")\n",
    "# Format strings: https://docs.python.org/2/library/datetime.html#strftime-and-strptime-behavior \n",
    "\n",
    "cat_cols = [\"A\",\"B\",\"C\"]\n",
    "for col in cat_cols:\n",
    "    df[col] = df[col].astype(\"category\")"
   ]
  },
  {
   "cell_type": "code",
   "execution_count": null,
   "metadata": {},
   "outputs": [],
   "source": [
    "# Return a string from a dataframe\n",
    "df.loc[df[\"col\"]==value,\"col_to_return\"].values.item()"
   ]
  },
  {
   "cell_type": "code",
   "execution_count": null,
   "metadata": {},
   "outputs": [],
   "source": [
    "# A stacked bar chart.\n",
    "new_esol[\"isReply\"] = (new_esol[\"parent\"]!=0)\n",
    "mth = new_esol.groupby(by=[\"Course_day\",\"isReply\"]).count()[[\"discussionid\"]]\n",
    "mth = mth.dropna(axis=0)\n",
    "mth = mth.reset_index(drop=False)\n",
    "mth = mth.rename(columns={\"discussionid\": \"Posts Per Day\"})\n",
    "\n",
    "fig, ax = plt.subplots(figsize=(25, 12))\n",
    "pivot_mth = mth.pivot(index=\"Course_day\", columns=\"isReply\", values=\"Posts Per Day\")\n",
    "#colors =  plt.cm.tab20b(np.arange(6))\n",
    "pivot_mth.plot.bar(stacked=True, color=sns.color_palette(\"colorblind\", 48), ax=ax)\n",
    "ax.set_title(\"Posts per day by reply status\")"
   ]
  },
  {
   "cell_type": "code",
   "execution_count": null,
   "metadata": {},
   "outputs": [],
   "source": [
    "# Basemap UK!\n",
    "\"\"\"\n",
    "Basemap imports\n",
    "\"\"\"\n",
    "\n",
    "epsg_loc = file_location + \"Continuum/anaconda3/Library/share/\"\n",
    "\n",
    "import os\n",
    "os.environ[\"PROJ_LIB\"] = epsg_loc #fixr\n",
    "\n",
    "import matplotlib.cm\n",
    " \n",
    "from mpl_toolkits.basemap import Basemap\n",
    "from matplotlib.patches import Polygon\n",
    "from matplotlib.collections import PatchCollection\n",
    "from matplotlib.colors import Normalize\n",
    "\n",
    "from matplotlib.lines import Line2D # for the graph legend\n",
    "\n",
    "# Draw a map with circles at locations in the input dataframe, coloured according to the input palette\n",
    "# colours are chosen based on values in the input column \"colour_col\"\n",
    "\n",
    "# Basemap can also do lines, but this subroutine doesn't\n",
    "\n",
    "def draw_map(palette,df, colour_col):\n",
    "\n",
    "    fig, ax = plt.subplots(figsize=(10,20))\n",
    "    m = Basemap(resolution='i', # c, l, i, h, f or None\n",
    "                projection='tmerc',\n",
    "                lat_0=55.3, lon_0=-3.5,\n",
    "                llcrnrlon=-10.1, llcrnrlat= 52.0, urcrnrlon=2.1, urcrnrlat=59.1)\n",
    "#m = Basemap(llcrnrlon=-7,llcrnrlat=49,urcrnrlon=2.,urcrnrlat=5.,\n",
    "#             resolution='i', projection='tmerc', lat_0 = 54, lon_0 = -3.25)\n",
    "    m.drawmapboundary(fill_color='#46bcec')\n",
    "    m.fillcontinents(color='#f2f2f2',lake_color='#46bcec')\n",
    "    m.drawcoastlines()\n",
    "\n",
    "# Assigning colours to outcomes\n",
    "\n",
    "    keys = list(df[colour_col].unique())\n",
    "    cols = sns.color_palette(palette,len(keys)).as_hex()\n",
    "\n",
    "    colour_dict = {keys[i]: cols[i] for i in range(0,len(keys))}\n",
    "    \n",
    "    def plot_circle(start_lon,start_lat,weight,colour):\n",
    "        m.plot(start_lon, start_lat, 'o', markersize=weight, color=colour, alpha=0.8, latlon=True)\n",
    "    \n",
    "    #cutoff=1 # value at which the green turns to red.\n",
    "    \n",
    "    for row in df.itertuples(index=True, name='Pandas'):\n",
    "        #print(row) # for debugging purposes\n",
    "        lng = getattr(row, \"longitude\")\n",
    "        lat = getattr(row, \"latitude\")\n",
    "        \n",
    "        col_definer = getattr(row,colour_col)\n",
    "        #connector1_status = getattr(row,\"connector1Status\")\n",
    "        colour = colour_dict[col_definer]\n",
    "        wt = 5\n",
    "            \n",
    "        if lng!=999 and lat!=999: \n",
    "            plot_circle(lng,lat,wt,colour)\n",
    "\n",
    "     \n",
    "    #custom_colours = list(colour_dict.values())\n",
    "    custom_labels = list(colour_dict.keys())\n",
    "    custom_lines = []\n",
    "    for key,value in colour_dict.items():\n",
    "        custom_lines.append(Line2D([0], [0], color=value, lw=4))\n",
    "\n",
    "    ax.legend(custom_lines, custom_labels)\n",
    "    ax.set_title('Charging points locations by ' + colour_col, fontsize=16)\n"
   ]
  }
 ],
 "metadata": {
  "kernelspec": {
   "display_name": "Python 3 (ipykernel)",
   "language": "python",
   "name": "python3"
  },
  "language_info": {
   "codemirror_mode": {
    "name": "ipython",
    "version": 3
   },
   "file_extension": ".py",
   "mimetype": "text/x-python",
   "name": "python",
   "nbconvert_exporter": "python",
   "pygments_lexer": "ipython3",
   "version": "3.8.8"
  }
 },
 "nbformat": 4,
 "nbformat_minor": 2
}
